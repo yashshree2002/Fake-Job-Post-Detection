{
  "cells": [
    {
      "cell_type": "markdown",
      "metadata": {
        "id": "Ea5YfcBfy4_8"
      },
      "source": [
        "#### 1. Loading Required Libraries"
      ]
    },
    {
      "cell_type": "code",
      "execution_count": null,
      "metadata": {
        "id": "kbHdF4-Ty5AA",
        "outputId": "f0825e8e-84b4-4306-9a6f-3a99bcde44bf"
      },
      "outputs": [
        {
          "name": "stdout",
          "output_type": "stream",
          "text": [
            "Collecting pandas\n",
            "  Using cached pandas-2.2.3-cp311-cp311-win_amd64.whl.metadata (19 kB)\n",
            "Collecting seaborn\n",
            "  Using cached seaborn-0.13.2-py3-none-any.whl.metadata (5.4 kB)\n",
            "Collecting matplotlib\n",
            "  Using cached matplotlib-3.10.1-cp311-cp311-win_amd64.whl.metadata (11 kB)\n",
            "Requirement already satisfied: numpy>=1.23.2 in d:\\yashu\\mca\\sem4\\project\\venv\\lib\\site-packages (from pandas) (2.2.3)\n",
            "Requirement already satisfied: python-dateutil>=2.8.2 in d:\\yashu\\mca\\sem4\\project\\venv\\lib\\site-packages (from pandas) (2.9.0.post0)\n",
            "Collecting pytz>=2020.1 (from pandas)\n",
            "  Using cached pytz-2025.1-py2.py3-none-any.whl.metadata (22 kB)\n",
            "Collecting tzdata>=2022.7 (from pandas)\n",
            "  Using cached tzdata-2025.1-py2.py3-none-any.whl.metadata (1.4 kB)\n",
            "Collecting contourpy>=1.0.1 (from matplotlib)\n",
            "  Using cached contourpy-1.3.1-cp311-cp311-win_amd64.whl.metadata (5.4 kB)\n",
            "Collecting cycler>=0.10 (from matplotlib)\n",
            "  Using cached cycler-0.12.1-py3-none-any.whl.metadata (3.8 kB)\n",
            "Collecting fonttools>=4.22.0 (from matplotlib)\n",
            "  Using cached fonttools-4.56.0-cp311-cp311-win_amd64.whl.metadata (103 kB)\n",
            "Collecting kiwisolver>=1.3.1 (from matplotlib)\n",
            "  Using cached kiwisolver-1.4.8-cp311-cp311-win_amd64.whl.metadata (6.3 kB)\n",
            "Requirement already satisfied: packaging>=20.0 in d:\\yashu\\mca\\sem4\\project\\venv\\lib\\site-packages (from matplotlib) (24.2)\n",
            "Collecting pillow>=8 (from matplotlib)\n",
            "  Using cached pillow-11.1.0-cp311-cp311-win_amd64.whl.metadata (9.3 kB)\n",
            "Collecting pyparsing>=2.3.1 (from matplotlib)\n",
            "  Using cached pyparsing-3.2.1-py3-none-any.whl.metadata (5.0 kB)\n",
            "Requirement already satisfied: six>=1.5 in d:\\yashu\\mca\\sem4\\project\\venv\\lib\\site-packages (from python-dateutil>=2.8.2->pandas) (1.17.0)\n",
            "Using cached pandas-2.2.3-cp311-cp311-win_amd64.whl (11.6 MB)\n",
            "Using cached seaborn-0.13.2-py3-none-any.whl (294 kB)\n",
            "Using cached matplotlib-3.10.1-cp311-cp311-win_amd64.whl (8.1 MB)\n",
            "Using cached contourpy-1.3.1-cp311-cp311-win_amd64.whl (219 kB)\n",
            "Using cached cycler-0.12.1-py3-none-any.whl (8.3 kB)\n",
            "Using cached fonttools-4.56.0-cp311-cp311-win_amd64.whl (2.2 MB)\n",
            "Using cached kiwisolver-1.4.8-cp311-cp311-win_amd64.whl (71 kB)\n",
            "Using cached pillow-11.1.0-cp311-cp311-win_amd64.whl (2.6 MB)\n",
            "Using cached pyparsing-3.2.1-py3-none-any.whl (107 kB)\n",
            "Using cached pytz-2025.1-py2.py3-none-any.whl (507 kB)\n",
            "Using cached tzdata-2025.1-py2.py3-none-any.whl (346 kB)\n",
            "Installing collected packages: pytz, tzdata, pyparsing, pillow, kiwisolver, fonttools, cycler, contourpy, pandas, matplotlib, seaborn\n",
            "Successfully installed contourpy-1.3.1 cycler-0.12.1 fonttools-4.56.0 kiwisolver-1.4.8 matplotlib-3.10.1 pandas-2.2.3 pillow-11.1.0 pyparsing-3.2.1 pytz-2025.1 seaborn-0.13.2 tzdata-2025.1\n"
          ]
        }
      ],
      "source": [
        "!pip install pandas seaborn matplotlib"
      ]
    },
    {
      "cell_type": "code",
      "execution_count": null,
      "metadata": {
        "id": "JA9EewRWy5AB"
      },
      "outputs": [],
      "source": [
        "import pandas as pd\n",
        "import seaborn as sns\n",
        "import matplotlib.pyplot as plt"
      ]
    },
    {
      "cell_type": "markdown",
      "metadata": {
        "id": "Nkmwd1vey5AC"
      },
      "source": [
        "#### 2. About Dataset"
      ]
    },
    {
      "cell_type": "markdown",
      "metadata": {
        "id": "JL0-d-_ay5AC"
      },
      "source": [
        "##### 2.1 Loading Dataset into DataFrame"
      ]
    },
    {
      "cell_type": "code",
      "execution_count": null,
      "metadata": {
        "id": "XqCu3sony5AC",
        "outputId": "2cb0f07b-74d4-49af-e954-99663c2fa6cd"
      },
      "outputs": [
        {
          "data": {
            "text/html": [
              "<div>\n",
              "<style scoped>\n",
              "    .dataframe tbody tr th:only-of-type {\n",
              "        vertical-align: middle;\n",
              "    }\n",
              "\n",
              "    .dataframe tbody tr th {\n",
              "        vertical-align: top;\n",
              "    }\n",
              "\n",
              "    .dataframe thead th {\n",
              "        text-align: right;\n",
              "    }\n",
              "</style>\n",
              "<table border=\"1\" class=\"dataframe\">\n",
              "  <thead>\n",
              "    <tr style=\"text-align: right;\">\n",
              "      <th></th>\n",
              "      <th>job_id</th>\n",
              "      <th>title</th>\n",
              "      <th>location</th>\n",
              "      <th>department</th>\n",
              "      <th>salary_range</th>\n",
              "      <th>company_profile</th>\n",
              "      <th>description</th>\n",
              "      <th>requirements</th>\n",
              "      <th>benefits</th>\n",
              "      <th>telecommuting</th>\n",
              "      <th>has_company_logo</th>\n",
              "      <th>has_questions</th>\n",
              "      <th>employment_type</th>\n",
              "      <th>required_experience</th>\n",
              "      <th>required_education</th>\n",
              "      <th>industry</th>\n",
              "      <th>function</th>\n",
              "      <th>fraudulent</th>\n",
              "    </tr>\n",
              "  </thead>\n",
              "  <tbody>\n",
              "    <tr>\n",
              "      <th>0</th>\n",
              "      <td>1</td>\n",
              "      <td>Marketing Intern</td>\n",
              "      <td>US, NY, New York</td>\n",
              "      <td>Marketing</td>\n",
              "      <td>NaN</td>\n",
              "      <td>We're Food52, and we've created a groundbreaki...</td>\n",
              "      <td>Food52, a fast-growing, James Beard Award-winn...</td>\n",
              "      <td>Experience with content management systems a m...</td>\n",
              "      <td>NaN</td>\n",
              "      <td>0</td>\n",
              "      <td>1</td>\n",
              "      <td>0</td>\n",
              "      <td>Other</td>\n",
              "      <td>Internship</td>\n",
              "      <td>NaN</td>\n",
              "      <td>NaN</td>\n",
              "      <td>Marketing</td>\n",
              "      <td>0</td>\n",
              "    </tr>\n",
              "    <tr>\n",
              "      <th>1</th>\n",
              "      <td>2</td>\n",
              "      <td>Customer Service - Cloud Video Production</td>\n",
              "      <td>NZ, , Auckland</td>\n",
              "      <td>Success</td>\n",
              "      <td>NaN</td>\n",
              "      <td>90 Seconds, the worlds Cloud Video Production ...</td>\n",
              "      <td>Organised - Focused - Vibrant - Awesome!Do you...</td>\n",
              "      <td>What we expect from you:Your key responsibilit...</td>\n",
              "      <td>What you will get from usThrough being part of...</td>\n",
              "      <td>0</td>\n",
              "      <td>1</td>\n",
              "      <td>0</td>\n",
              "      <td>Full-time</td>\n",
              "      <td>Not Applicable</td>\n",
              "      <td>NaN</td>\n",
              "      <td>Marketing and Advertising</td>\n",
              "      <td>Customer Service</td>\n",
              "      <td>0</td>\n",
              "    </tr>\n",
              "    <tr>\n",
              "      <th>2</th>\n",
              "      <td>3</td>\n",
              "      <td>Commissioning Machinery Assistant (CMA)</td>\n",
              "      <td>US, IA, Wever</td>\n",
              "      <td>NaN</td>\n",
              "      <td>NaN</td>\n",
              "      <td>Valor Services provides Workforce Solutions th...</td>\n",
              "      <td>Our client, located in Houston, is actively se...</td>\n",
              "      <td>Implement pre-commissioning and commissioning ...</td>\n",
              "      <td>NaN</td>\n",
              "      <td>0</td>\n",
              "      <td>1</td>\n",
              "      <td>0</td>\n",
              "      <td>NaN</td>\n",
              "      <td>NaN</td>\n",
              "      <td>NaN</td>\n",
              "      <td>NaN</td>\n",
              "      <td>NaN</td>\n",
              "      <td>0</td>\n",
              "    </tr>\n",
              "    <tr>\n",
              "      <th>3</th>\n",
              "      <td>4</td>\n",
              "      <td>Account Executive - Washington DC</td>\n",
              "      <td>US, DC, Washington</td>\n",
              "      <td>Sales</td>\n",
              "      <td>NaN</td>\n",
              "      <td>Our passion for improving quality of life thro...</td>\n",
              "      <td>THE COMPANY: ESRI – Environmental Systems Rese...</td>\n",
              "      <td>EDUCATION: Bachelor’s or Master’s in GIS, busi...</td>\n",
              "      <td>Our culture is anything but corporate—we have ...</td>\n",
              "      <td>0</td>\n",
              "      <td>1</td>\n",
              "      <td>0</td>\n",
              "      <td>Full-time</td>\n",
              "      <td>Mid-Senior level</td>\n",
              "      <td>Bachelor's Degree</td>\n",
              "      <td>Computer Software</td>\n",
              "      <td>Sales</td>\n",
              "      <td>0</td>\n",
              "    </tr>\n",
              "    <tr>\n",
              "      <th>4</th>\n",
              "      <td>5</td>\n",
              "      <td>Bill Review Manager</td>\n",
              "      <td>US, FL, Fort Worth</td>\n",
              "      <td>NaN</td>\n",
              "      <td>NaN</td>\n",
              "      <td>SpotSource Solutions LLC is a Global Human Cap...</td>\n",
              "      <td>JOB TITLE: Itemization Review ManagerLOCATION:...</td>\n",
              "      <td>QUALIFICATIONS:RN license in the State of Texa...</td>\n",
              "      <td>Full Benefits Offered</td>\n",
              "      <td>0</td>\n",
              "      <td>1</td>\n",
              "      <td>1</td>\n",
              "      <td>Full-time</td>\n",
              "      <td>Mid-Senior level</td>\n",
              "      <td>Bachelor's Degree</td>\n",
              "      <td>Hospital &amp; Health Care</td>\n",
              "      <td>Health Care Provider</td>\n",
              "      <td>0</td>\n",
              "    </tr>\n",
              "  </tbody>\n",
              "</table>\n",
              "</div>"
            ],
            "text/plain": [
              "   job_id                                      title            location  \\\n",
              "0       1                           Marketing Intern    US, NY, New York   \n",
              "1       2  Customer Service - Cloud Video Production      NZ, , Auckland   \n",
              "2       3    Commissioning Machinery Assistant (CMA)       US, IA, Wever   \n",
              "3       4          Account Executive - Washington DC  US, DC, Washington   \n",
              "4       5                        Bill Review Manager  US, FL, Fort Worth   \n",
              "\n",
              "  department salary_range                                    company_profile  \\\n",
              "0  Marketing          NaN  We're Food52, and we've created a groundbreaki...   \n",
              "1    Success          NaN  90 Seconds, the worlds Cloud Video Production ...   \n",
              "2        NaN          NaN  Valor Services provides Workforce Solutions th...   \n",
              "3      Sales          NaN  Our passion for improving quality of life thro...   \n",
              "4        NaN          NaN  SpotSource Solutions LLC is a Global Human Cap...   \n",
              "\n",
              "                                         description  \\\n",
              "0  Food52, a fast-growing, James Beard Award-winn...   \n",
              "1  Organised - Focused - Vibrant - Awesome!Do you...   \n",
              "2  Our client, located in Houston, is actively se...   \n",
              "3  THE COMPANY: ESRI – Environmental Systems Rese...   \n",
              "4  JOB TITLE: Itemization Review ManagerLOCATION:...   \n",
              "\n",
              "                                        requirements  \\\n",
              "0  Experience with content management systems a m...   \n",
              "1  What we expect from you:Your key responsibilit...   \n",
              "2  Implement pre-commissioning and commissioning ...   \n",
              "3  EDUCATION: Bachelor’s or Master’s in GIS, busi...   \n",
              "4  QUALIFICATIONS:RN license in the State of Texa...   \n",
              "\n",
              "                                            benefits  telecommuting  \\\n",
              "0                                                NaN              0   \n",
              "1  What you will get from usThrough being part of...              0   \n",
              "2                                                NaN              0   \n",
              "3  Our culture is anything but corporate—we have ...              0   \n",
              "4                              Full Benefits Offered              0   \n",
              "\n",
              "   has_company_logo  has_questions employment_type required_experience  \\\n",
              "0                 1              0           Other          Internship   \n",
              "1                 1              0       Full-time      Not Applicable   \n",
              "2                 1              0             NaN                 NaN   \n",
              "3                 1              0       Full-time    Mid-Senior level   \n",
              "4                 1              1       Full-time    Mid-Senior level   \n",
              "\n",
              "  required_education                   industry              function  \\\n",
              "0                NaN                        NaN             Marketing   \n",
              "1                NaN  Marketing and Advertising      Customer Service   \n",
              "2                NaN                        NaN                   NaN   \n",
              "3  Bachelor's Degree          Computer Software                 Sales   \n",
              "4  Bachelor's Degree     Hospital & Health Care  Health Care Provider   \n",
              "\n",
              "   fraudulent  \n",
              "0           0  \n",
              "1           0  \n",
              "2           0  \n",
              "3           0  \n",
              "4           0  "
            ]
          },
          "execution_count": 5,
          "metadata": {},
          "output_type": "execute_result"
        }
      ],
      "source": [
        "df = pd.read_csv(\"../datasets/raw/fake_job_postings.csv\")\n",
        "df.head()"
      ]
    },
    {
      "cell_type": "markdown",
      "metadata": {
        "id": "O2NBPJQQy5AD"
      },
      "source": [
        "##### 2.2 Number of Row and Columns"
      ]
    },
    {
      "cell_type": "code",
      "execution_count": null,
      "metadata": {
        "id": "25afwhSOy5AD",
        "outputId": "d0ef34e3-3dd4-4e14-bcbf-03c88112e84d"
      },
      "outputs": [
        {
          "name": "stdout",
          "output_type": "stream",
          "text": [
            "This dataset has \u001b[1m 17880 rows\u001b[0m and \u001b[1m18 columns \u001b[0m.\n"
          ]
        }
      ],
      "source": [
        "rows = df.shape[0]\n",
        "cols = df.shape[1]\n",
        "\n",
        "print(f\"This dataset has \\033[1m {rows} rows\\033[0m and \\033[1m{cols} columns \\033[0m.\")"
      ]
    },
    {
      "cell_type": "markdown",
      "metadata": {
        "id": "9e5gc2bry5AD"
      },
      "source": [
        "##### 2.3 Null Values in Dataset\n"
      ]
    },
    {
      "cell_type": "code",
      "execution_count": null,
      "metadata": {
        "id": "O3VJWksiy5AD",
        "outputId": "338512a3-6435-4e73-c7d5-8b3cb955c56d"
      },
      "outputs": [
        {
          "data": {
            "text/plain": [
              "[['location', np.int64(346)],\n",
              " ['department', np.int64(11547)],\n",
              " ['salary_range', np.int64(15012)],\n",
              " ['company_profile', np.int64(3308)],\n",
              " ['description', np.int64(1)],\n",
              " ['requirements', np.int64(2696)],\n",
              " ['benefits', np.int64(7212)],\n",
              " ['employment_type', np.int64(3471)],\n",
              " ['required_experience', np.int64(7050)],\n",
              " ['required_education', np.int64(8105)],\n",
              " ['industry', np.int64(4903)],\n",
              " ['function', np.int64(6455)]]"
            ]
          },
          "execution_count": 7,
          "metadata": {},
          "output_type": "execute_result"
        }
      ],
      "source": [
        "[[features, df[features].isnull().sum()] for features in df.columns if df[features].isnull().sum() > 0]"
      ]
    },
    {
      "cell_type": "markdown",
      "metadata": {
        "id": "OTNum1STy5AE"
      },
      "source": [
        "##### 2.5 Droping unnecessary Columns"
      ]
    },
    {
      "cell_type": "code",
      "execution_count": null,
      "metadata": {
        "id": "gxZef-Loy5AE",
        "outputId": "14b6d098-c94d-4691-f25d-5261a263d959"
      },
      "outputs": [
        {
          "data": {
            "text/html": [
              "<div>\n",
              "<style scoped>\n",
              "    .dataframe tbody tr th:only-of-type {\n",
              "        vertical-align: middle;\n",
              "    }\n",
              "\n",
              "    .dataframe tbody tr th {\n",
              "        vertical-align: top;\n",
              "    }\n",
              "\n",
              "    .dataframe thead th {\n",
              "        text-align: right;\n",
              "    }\n",
              "</style>\n",
              "<table border=\"1\" class=\"dataframe\">\n",
              "  <thead>\n",
              "    <tr style=\"text-align: right;\">\n",
              "      <th></th>\n",
              "      <th>title</th>\n",
              "      <th>location</th>\n",
              "      <th>department</th>\n",
              "      <th>company_profile</th>\n",
              "      <th>description</th>\n",
              "      <th>requirements</th>\n",
              "      <th>benefits</th>\n",
              "      <th>required_experience</th>\n",
              "      <th>required_education</th>\n",
              "      <th>industry</th>\n",
              "      <th>function</th>\n",
              "      <th>fraudulent</th>\n",
              "    </tr>\n",
              "  </thead>\n",
              "  <tbody>\n",
              "    <tr>\n",
              "      <th>0</th>\n",
              "      <td>Marketing Intern</td>\n",
              "      <td>US, NY, New York</td>\n",
              "      <td>Marketing</td>\n",
              "      <td>We're Food52, and we've created a groundbreaki...</td>\n",
              "      <td>Food52, a fast-growing, James Beard Award-winn...</td>\n",
              "      <td>Experience with content management systems a m...</td>\n",
              "      <td>NaN</td>\n",
              "      <td>Internship</td>\n",
              "      <td>NaN</td>\n",
              "      <td>NaN</td>\n",
              "      <td>Marketing</td>\n",
              "      <td>0</td>\n",
              "    </tr>\n",
              "    <tr>\n",
              "      <th>1</th>\n",
              "      <td>Customer Service - Cloud Video Production</td>\n",
              "      <td>NZ, , Auckland</td>\n",
              "      <td>Success</td>\n",
              "      <td>90 Seconds, the worlds Cloud Video Production ...</td>\n",
              "      <td>Organised - Focused - Vibrant - Awesome!Do you...</td>\n",
              "      <td>What we expect from you:Your key responsibilit...</td>\n",
              "      <td>What you will get from usThrough being part of...</td>\n",
              "      <td>Not Applicable</td>\n",
              "      <td>NaN</td>\n",
              "      <td>Marketing and Advertising</td>\n",
              "      <td>Customer Service</td>\n",
              "      <td>0</td>\n",
              "    </tr>\n",
              "    <tr>\n",
              "      <th>2</th>\n",
              "      <td>Commissioning Machinery Assistant (CMA)</td>\n",
              "      <td>US, IA, Wever</td>\n",
              "      <td>NaN</td>\n",
              "      <td>Valor Services provides Workforce Solutions th...</td>\n",
              "      <td>Our client, located in Houston, is actively se...</td>\n",
              "      <td>Implement pre-commissioning and commissioning ...</td>\n",
              "      <td>NaN</td>\n",
              "      <td>NaN</td>\n",
              "      <td>NaN</td>\n",
              "      <td>NaN</td>\n",
              "      <td>NaN</td>\n",
              "      <td>0</td>\n",
              "    </tr>\n",
              "    <tr>\n",
              "      <th>3</th>\n",
              "      <td>Account Executive - Washington DC</td>\n",
              "      <td>US, DC, Washington</td>\n",
              "      <td>Sales</td>\n",
              "      <td>Our passion for improving quality of life thro...</td>\n",
              "      <td>THE COMPANY: ESRI – Environmental Systems Rese...</td>\n",
              "      <td>EDUCATION: Bachelor’s or Master’s in GIS, busi...</td>\n",
              "      <td>Our culture is anything but corporate—we have ...</td>\n",
              "      <td>Mid-Senior level</td>\n",
              "      <td>Bachelor's Degree</td>\n",
              "      <td>Computer Software</td>\n",
              "      <td>Sales</td>\n",
              "      <td>0</td>\n",
              "    </tr>\n",
              "    <tr>\n",
              "      <th>4</th>\n",
              "      <td>Bill Review Manager</td>\n",
              "      <td>US, FL, Fort Worth</td>\n",
              "      <td>NaN</td>\n",
              "      <td>SpotSource Solutions LLC is a Global Human Cap...</td>\n",
              "      <td>JOB TITLE: Itemization Review ManagerLOCATION:...</td>\n",
              "      <td>QUALIFICATIONS:RN license in the State of Texa...</td>\n",
              "      <td>Full Benefits Offered</td>\n",
              "      <td>Mid-Senior level</td>\n",
              "      <td>Bachelor's Degree</td>\n",
              "      <td>Hospital &amp; Health Care</td>\n",
              "      <td>Health Care Provider</td>\n",
              "      <td>0</td>\n",
              "    </tr>\n",
              "  </tbody>\n",
              "</table>\n",
              "</div>"
            ],
            "text/plain": [
              "                                       title            location department  \\\n",
              "0                           Marketing Intern    US, NY, New York  Marketing   \n",
              "1  Customer Service - Cloud Video Production      NZ, , Auckland    Success   \n",
              "2    Commissioning Machinery Assistant (CMA)       US, IA, Wever        NaN   \n",
              "3          Account Executive - Washington DC  US, DC, Washington      Sales   \n",
              "4                        Bill Review Manager  US, FL, Fort Worth        NaN   \n",
              "\n",
              "                                     company_profile  \\\n",
              "0  We're Food52, and we've created a groundbreaki...   \n",
              "1  90 Seconds, the worlds Cloud Video Production ...   \n",
              "2  Valor Services provides Workforce Solutions th...   \n",
              "3  Our passion for improving quality of life thro...   \n",
              "4  SpotSource Solutions LLC is a Global Human Cap...   \n",
              "\n",
              "                                         description  \\\n",
              "0  Food52, a fast-growing, James Beard Award-winn...   \n",
              "1  Organised - Focused - Vibrant - Awesome!Do you...   \n",
              "2  Our client, located in Houston, is actively se...   \n",
              "3  THE COMPANY: ESRI – Environmental Systems Rese...   \n",
              "4  JOB TITLE: Itemization Review ManagerLOCATION:...   \n",
              "\n",
              "                                        requirements  \\\n",
              "0  Experience with content management systems a m...   \n",
              "1  What we expect from you:Your key responsibilit...   \n",
              "2  Implement pre-commissioning and commissioning ...   \n",
              "3  EDUCATION: Bachelor’s or Master’s in GIS, busi...   \n",
              "4  QUALIFICATIONS:RN license in the State of Texa...   \n",
              "\n",
              "                                            benefits required_experience  \\\n",
              "0                                                NaN          Internship   \n",
              "1  What you will get from usThrough being part of...      Not Applicable   \n",
              "2                                                NaN                 NaN   \n",
              "3  Our culture is anything but corporate—we have ...    Mid-Senior level   \n",
              "4                              Full Benefits Offered    Mid-Senior level   \n",
              "\n",
              "  required_education                   industry              function  \\\n",
              "0                NaN                        NaN             Marketing   \n",
              "1                NaN  Marketing and Advertising      Customer Service   \n",
              "2                NaN                        NaN                   NaN   \n",
              "3  Bachelor's Degree          Computer Software                 Sales   \n",
              "4  Bachelor's Degree     Hospital & Health Care  Health Care Provider   \n",
              "\n",
              "   fraudulent  \n",
              "0           0  \n",
              "1           0  \n",
              "2           0  \n",
              "3           0  \n",
              "4           0  "
            ]
          },
          "execution_count": 9,
          "metadata": {},
          "output_type": "execute_result"
        }
      ],
      "source": [
        "columns = ['job_id','telecommuting','has_company_logo','has_questions','salary_range','employment_type']\n",
        "\n",
        "for col in columns:\n",
        "    del df[col]\n",
        "\n",
        "df.head()"
      ]
    },
    {
      "cell_type": "markdown",
      "metadata": {
        "id": "unMUPW89y5AE"
      },
      "source": [
        "##### 2.6 Filling NaN values with Blank space"
      ]
    },
    {
      "cell_type": "code",
      "execution_count": null,
      "metadata": {
        "id": "kkCJMub0y5AF"
      },
      "outputs": [],
      "source": [
        "df.fillna('', inplace=True)"
      ]
    },
    {
      "cell_type": "markdown",
      "metadata": {
        "id": "Q2OUqYBty5AF"
      },
      "source": [
        "#### 3. Exploratory Data Analysis"
      ]
    },
    {
      "cell_type": "markdown",
      "metadata": {
        "id": "S8IQtLZ3y5AF"
      },
      "source": [
        "##### 3.1 Comparing Number of Fraudlent and Non-Fraudlent Job Posting"
      ]
    },
    {
      "cell_type": "code",
      "execution_count": null,
      "metadata": {
        "id": "Em4bm7Aey5AF",
        "outputId": "93db8a65-f461-4844-913c-c3e39b1fe898"
      },
      "outputs": [
        {
          "data": {
            "image/png": "[encoded data removed]",
            "text/plain": [
              "<Figure size 1000x300 with 1 Axes>"
            ]
          },
          "metadata": {},
          "output_type": "display_data"
        }
      ],
      "source": [
        "fig = sns.set(rc={'figure.figsize': (10, 3)})\n",
        "plt.title(\"Number of Fradulent Vs Non-Fraudlent Jobs\")\n",
        "sns.countplot(y='fraudulent', data=df)\n",
        "plt.show()"
      ]
    },
    {
      "cell_type": "code",
      "execution_count": null,
      "metadata": {
        "id": "_QamSKhhy5AF",
        "outputId": "9cb93b38-dbb6-49ce-96f9-d2d69b1c7e2a"
      },
      "outputs": [
        {
          "name": "stdout",
          "output_type": "stream",
          "text": [
            "\u001b[1m 17014\u001b[0m jobs are \u001b[1mNOT Fraudulent\u001b[0m and \u001b[1m866\u001b[0m jobs are \u001b[1mFraudulent\u001b[0m.\n"
          ]
        }
      ],
      "source": [
        "not_fraudulent = df.groupby('fraudulent')['fraudulent'].count()[0]\n",
        "fraudulent = df.groupby('fraudulent')['fraudulent'].count()[1]\n",
        "\n",
        "print(f\"\\033[1m {not_fraudulent}\\033[0m jobs are \\033[1mNOT Fraudulent\\033[0m and \\033[1m{fraudulent}\\033[0m jobs are \\033[1mFraudulent\\033[0m.\")"
      ]
    },
    {
      "cell_type": "markdown",
      "metadata": {
        "id": "aCZtXvdoy5AG"
      },
      "source": [
        "##### 3.2 Experiencewise Count"
      ]
    },
    {
      "cell_type": "code",
      "execution_count": null,
      "metadata": {
        "id": "KIjrF1gJy5AG",
        "outputId": "452f196a-51d5-46cf-c64c-42a705b2f25f"
      },
      "outputs": [
        {
          "data": {
            "text/html": [
              "<div>\n",
              "<style scoped>\n",
              "    .dataframe tbody tr th:only-of-type {\n",
              "        vertical-align: middle;\n",
              "    }\n",
              "\n",
              "    .dataframe tbody tr th {\n",
              "        vertical-align: top;\n",
              "    }\n",
              "\n",
              "    .dataframe thead th {\n",
              "        text-align: right;\n",
              "    }\n",
              "</style>\n",
              "<table border=\"1\" class=\"dataframe\">\n",
              "  <thead>\n",
              "    <tr style=\"text-align: right;\">\n",
              "      <th></th>\n",
              "      <th>Mid-Senior level</th>\n",
              "      <th>Entry level</th>\n",
              "      <th>Associate</th>\n",
              "      <th>Not Applicable</th>\n",
              "      <th>Director</th>\n",
              "      <th>Internship</th>\n",
              "      <th>Executive</th>\n",
              "    </tr>\n",
              "  </thead>\n",
              "  <tbody>\n",
              "    <tr>\n",
              "      <th>0</th>\n",
              "      <td>3809</td>\n",
              "      <td>2697</td>\n",
              "      <td>2297</td>\n",
              "      <td>1116</td>\n",
              "      <td>389</td>\n",
              "      <td>381</td>\n",
              "      <td>141</td>\n",
              "    </tr>\n",
              "  </tbody>\n",
              "</table>\n",
              "</div>"
            ],
            "text/plain": [
              "   Mid-Senior level  Entry level  Associate  Not Applicable  Director  \\\n",
              "0              3809         2697       2297            1116       389   \n",
              "\n",
              "   Internship  Executive  \n",
              "0         381        141  "
            ]
          },
          "execution_count": 13,
          "metadata": {},
          "output_type": "execute_result"
        }
      ],
      "source": [
        "exp = dict(df.required_experience.value_counts())\n",
        "del exp['']\n",
        "\n",
        "exp_df = pd.DataFrame.from_dict(exp, orient ='index')\n",
        "exp_df.T"
      ]
    },
    {
      "cell_type": "code",
      "execution_count": null,
      "metadata": {
        "id": "kcqNGCH3y5AG",
        "outputId": "2e71bd5e-5585-47f8-d726-5c70d0b9da5f"
      },
      "outputs": [
        {
          "data": {
            "image/png": "[encoded data removed]",
            "text/plain": [
              "<Figure size 1000x500 with 1 Axes>"
            ]
          },
          "metadata": {},
          "output_type": "display_data"
        }
      ],
      "source": [
        "fig = sns.set(rc={'figure.figsize': (10, 5)})\n",
        "sns.set_theme(style=\"whitegrid\")\n",
        "plt.bar(exp.keys(),exp.values())\n",
        "plt.title('No. of Jobs with Experience')\n",
        "plt.xlabel('Experience')\n",
        "plt.ylabel('No. of jobs')\n",
        "plt.xticks(rotation=30)\n",
        "plt.show()"
      ]
    },
    {
      "cell_type": "markdown",
      "metadata": {
        "id": "fdOKTgZuy5AG"
      },
      "source": [
        "##### 3.3 Countrywise Job Count"
      ]
    },
    {
      "cell_type": "code",
      "execution_count": null,
      "metadata": {
        "id": "260W3UXiy5AG",
        "outputId": "ce3515b6-b315-4f6c-e18d-dd7f1465f08f"
      },
      "outputs": [
        {
          "data": {
            "text/html": [
              "<div>\n",
              "<style scoped>\n",
              "    .dataframe tbody tr th:only-of-type {\n",
              "        vertical-align: middle;\n",
              "    }\n",
              "\n",
              "    .dataframe tbody tr th {\n",
              "        vertical-align: top;\n",
              "    }\n",
              "\n",
              "    .dataframe thead th {\n",
              "        text-align: right;\n",
              "    }\n",
              "</style>\n",
              "<table border=\"1\" class=\"dataframe\">\n",
              "  <thead>\n",
              "    <tr style=\"text-align: right;\">\n",
              "      <th></th>\n",
              "      <th>title</th>\n",
              "      <th>location</th>\n",
              "      <th>department</th>\n",
              "      <th>company_profile</th>\n",
              "      <th>description</th>\n",
              "      <th>requirements</th>\n",
              "      <th>benefits</th>\n",
              "      <th>required_experience</th>\n",
              "      <th>required_education</th>\n",
              "      <th>industry</th>\n",
              "      <th>function</th>\n",
              "      <th>fraudulent</th>\n",
              "      <th>country</th>\n",
              "    </tr>\n",
              "  </thead>\n",
              "  <tbody>\n",
              "    <tr>\n",
              "      <th>0</th>\n",
              "      <td>Marketing Intern</td>\n",
              "      <td>US, NY, New York</td>\n",
              "      <td>Marketing</td>\n",
              "      <td>We're Food52, and we've created a groundbreaki...</td>\n",
              "      <td>Food52, a fast-growing, James Beard Award-winn...</td>\n",
              "      <td>Experience with content management systems a m...</td>\n",
              "      <td></td>\n",
              "      <td>Internship</td>\n",
              "      <td></td>\n",
              "      <td></td>\n",
              "      <td>Marketing</td>\n",
              "      <td>0</td>\n",
              "      <td>US</td>\n",
              "    </tr>\n",
              "    <tr>\n",
              "      <th>1</th>\n",
              "      <td>Customer Service - Cloud Video Production</td>\n",
              "      <td>NZ, , Auckland</td>\n",
              "      <td>Success</td>\n",
              "      <td>90 Seconds, the worlds Cloud Video Production ...</td>\n",
              "      <td>Organised - Focused - Vibrant - Awesome!Do you...</td>\n",
              "      <td>What we expect from you:Your key responsibilit...</td>\n",
              "      <td>What you will get from usThrough being part of...</td>\n",
              "      <td>Not Applicable</td>\n",
              "      <td></td>\n",
              "      <td>Marketing and Advertising</td>\n",
              "      <td>Customer Service</td>\n",
              "      <td>0</td>\n",
              "      <td>NZ</td>\n",
              "    </tr>\n",
              "    <tr>\n",
              "      <th>2</th>\n",
              "      <td>Commissioning Machinery Assistant (CMA)</td>\n",
              "      <td>US, IA, Wever</td>\n",
              "      <td></td>\n",
              "      <td>Valor Services provides Workforce Solutions th...</td>\n",
              "      <td>Our client, located in Houston, is actively se...</td>\n",
              "      <td>Implement pre-commissioning and commissioning ...</td>\n",
              "      <td></td>\n",
              "      <td></td>\n",
              "      <td></td>\n",
              "      <td></td>\n",
              "      <td></td>\n",
              "      <td>0</td>\n",
              "      <td>US</td>\n",
              "    </tr>\n",
              "    <tr>\n",
              "      <th>3</th>\n",
              "      <td>Account Executive - Washington DC</td>\n",
              "      <td>US, DC, Washington</td>\n",
              "      <td>Sales</td>\n",
              "      <td>Our passion for improving quality of life thro...</td>\n",
              "      <td>THE COMPANY: ESRI – Environmental Systems Rese...</td>\n",
              "      <td>EDUCATION: Bachelor’s or Master’s in GIS, busi...</td>\n",
              "      <td>Our culture is anything but corporate—we have ...</td>\n",
              "      <td>Mid-Senior level</td>\n",
              "      <td>Bachelor's Degree</td>\n",
              "      <td>Computer Software</td>\n",
              "      <td>Sales</td>\n",
              "      <td>0</td>\n",
              "      <td>US</td>\n",
              "    </tr>\n",
              "    <tr>\n",
              "      <th>4</th>\n",
              "      <td>Bill Review Manager</td>\n",
              "      <td>US, FL, Fort Worth</td>\n",
              "      <td></td>\n",
              "      <td>SpotSource Solutions LLC is a Global Human Cap...</td>\n",
              "      <td>JOB TITLE: Itemization Review ManagerLOCATION:...</td>\n",
              "      <td>QUALIFICATIONS:RN license in the State of Texa...</td>\n",
              "      <td>Full Benefits Offered</td>\n",
              "      <td>Mid-Senior level</td>\n",
              "      <td>Bachelor's Degree</td>\n",
              "      <td>Hospital &amp; Health Care</td>\n",
              "      <td>Health Care Provider</td>\n",
              "      <td>0</td>\n",
              "      <td>US</td>\n",
              "    </tr>\n",
              "  </tbody>\n",
              "</table>\n",
              "</div>"
            ],
            "text/plain": [
              "                                       title            location department  \\\n",
              "0                           Marketing Intern    US, NY, New York  Marketing   \n",
              "1  Customer Service - Cloud Video Production      NZ, , Auckland    Success   \n",
              "2    Commissioning Machinery Assistant (CMA)       US, IA, Wever              \n",
              "3          Account Executive - Washington DC  US, DC, Washington      Sales   \n",
              "4                        Bill Review Manager  US, FL, Fort Worth              \n",
              "\n",
              "                                     company_profile  \\\n",
              "0  We're Food52, and we've created a groundbreaki...   \n",
              "1  90 Seconds, the worlds Cloud Video Production ...   \n",
              "2  Valor Services provides Workforce Solutions th...   \n",
              "3  Our passion for improving quality of life thro...   \n",
              "4  SpotSource Solutions LLC is a Global Human Cap...   \n",
              "\n",
              "                                         description  \\\n",
              "0  Food52, a fast-growing, James Beard Award-winn...   \n",
              "1  Organised - Focused - Vibrant - Awesome!Do you...   \n",
              "2  Our client, located in Houston, is actively se...   \n",
              "3  THE COMPANY: ESRI – Environmental Systems Rese...   \n",
              "4  JOB TITLE: Itemization Review ManagerLOCATION:...   \n",
              "\n",
              "                                        requirements  \\\n",
              "0  Experience with content management systems a m...   \n",
              "1  What we expect from you:Your key responsibilit...   \n",
              "2  Implement pre-commissioning and commissioning ...   \n",
              "3  EDUCATION: Bachelor’s or Master’s in GIS, busi...   \n",
              "4  QUALIFICATIONS:RN license in the State of Texa...   \n",
              "\n",
              "                                            benefits required_experience  \\\n",
              "0                                                             Internship   \n",
              "1  What you will get from usThrough being part of...      Not Applicable   \n",
              "2                                                                          \n",
              "3  Our culture is anything but corporate—we have ...    Mid-Senior level   \n",
              "4                              Full Benefits Offered    Mid-Senior level   \n",
              "\n",
              "  required_education                   industry              function  \\\n",
              "0                                                           Marketing   \n",
              "1                     Marketing and Advertising      Customer Service   \n",
              "2                                                                       \n",
              "3  Bachelor's Degree          Computer Software                 Sales   \n",
              "4  Bachelor's Degree     Hospital & Health Care  Health Care Provider   \n",
              "\n",
              "   fraudulent country  \n",
              "0           0      US  \n",
              "1           0      NZ  \n",
              "2           0      US  \n",
              "3           0      US  \n",
              "4           0      US  "
            ]
          },
          "execution_count": 15,
          "metadata": {},
          "output_type": "execute_result"
        }
      ],
      "source": [
        "# First Spliting location Column to extract Country Code\n",
        "def split(location):\n",
        "    l = location.split(',')\n",
        "    return l[0]\n",
        "\n",
        "df['country'] = df.location.apply(split)\n",
        "\n",
        "df.head()"
      ]
    },
    {
      "cell_type": "code",
      "execution_count": null,
      "metadata": {
        "id": "faNtDbqFy5AH",
        "outputId": "a300cbae-8475-4296-e438-101923d530f9"
      },
      "outputs": [
        {
          "data": {
            "text/html": [
              "<div>\n",
              "<style scoped>\n",
              "    .dataframe tbody tr th:only-of-type {\n",
              "        vertical-align: middle;\n",
              "    }\n",
              "\n",
              "    .dataframe tbody tr th {\n",
              "        vertical-align: top;\n",
              "    }\n",
              "\n",
              "    .dataframe thead th {\n",
              "        text-align: right;\n",
              "    }\n",
              "</style>\n",
              "<table border=\"1\" class=\"dataframe\">\n",
              "  <thead>\n",
              "    <tr style=\"text-align: right;\">\n",
              "      <th></th>\n",
              "      <th>US</th>\n",
              "      <th>GB</th>\n",
              "      <th>GR</th>\n",
              "      <th>CA</th>\n",
              "      <th>DE</th>\n",
              "      <th>NZ</th>\n",
              "      <th>IN</th>\n",
              "      <th>AU</th>\n",
              "      <th>PH</th>\n",
              "      <th>NL</th>\n",
              "      <th>BE</th>\n",
              "      <th>IE</th>\n",
              "      <th>SG</th>\n",
              "    </tr>\n",
              "  </thead>\n",
              "  <tbody>\n",
              "    <tr>\n",
              "      <th>0</th>\n",
              "      <td>10656</td>\n",
              "      <td>2384</td>\n",
              "      <td>940</td>\n",
              "      <td>457</td>\n",
              "      <td>383</td>\n",
              "      <td>333</td>\n",
              "      <td>276</td>\n",
              "      <td>214</td>\n",
              "      <td>132</td>\n",
              "      <td>127</td>\n",
              "      <td>117</td>\n",
              "      <td>114</td>\n",
              "      <td>80</td>\n",
              "    </tr>\n",
              "  </tbody>\n",
              "</table>\n",
              "</div>"
            ],
            "text/plain": [
              "      US    GB   GR   CA   DE   NZ   IN   AU   PH   NL   BE   IE  SG\n",
              "0  10656  2384  940  457  383  333  276  214  132  127  117  114  80"
            ]
          },
          "execution_count": 16,
          "metadata": {},
          "output_type": "execute_result"
        }
      ],
      "source": [
        "countr = dict(df.country.value_counts()[:14])\n",
        "del countr['']\n",
        "countr\n",
        "\n",
        "countr_df = pd.DataFrame.from_dict(countr, orient ='index')\n",
        "countr_df.T"
      ]
    },
    {
      "cell_type": "code",
      "execution_count": null,
      "metadata": {
        "id": "7go1kU7ay5AH",
        "outputId": "6b4ab226-d55e-4364-fa08-0bff0ca8dbf8"
      },
      "outputs": [
        {
          "data": {
            "image/png": "[encoded data removed]",
            "text/plain": [
              "<Figure size 1000x500 with 1 Axes>"
            ]
          },
          "metadata": {},
          "output_type": "display_data"
        }
      ],
      "source": [
        "fig = sns.set(rc={'figure.figsize': (10, 5)})\n",
        "plt.title('Country-wise Job Posting')\n",
        "plt.bar(countr.keys(), countr.values())\n",
        "plt.ylabel('No. of jobs')\n",
        "plt.xlabel('Countries')\n",
        "plt.show()"
      ]
    },
    {
      "cell_type": "markdown",
      "metadata": {
        "id": "UbGHPcq_y5AH"
      },
      "source": [
        "##### 3.4 Education Job Count"
      ]
    },
    {
      "cell_type": "code",
      "execution_count": null,
      "metadata": {
        "id": "8KhICa56y5AH",
        "outputId": "f48608d6-fffe-413d-cb1f-9b3e479bb71d"
      },
      "outputs": [
        {
          "data": {
            "text/html": [
              "<div>\n",
              "<style scoped>\n",
              "    .dataframe tbody tr th:only-of-type {\n",
              "        vertical-align: middle;\n",
              "    }\n",
              "\n",
              "    .dataframe tbody tr th {\n",
              "        vertical-align: top;\n",
              "    }\n",
              "\n",
              "    .dataframe thead th {\n",
              "        text-align: right;\n",
              "    }\n",
              "</style>\n",
              "<table border=\"1\" class=\"dataframe\">\n",
              "  <thead>\n",
              "    <tr style=\"text-align: right;\">\n",
              "      <th></th>\n",
              "      <th>Bachelor's Degree</th>\n",
              "      <th>High School or equivalent</th>\n",
              "      <th>Unspecified</th>\n",
              "      <th>Master's Degree</th>\n",
              "      <th>Associate Degree</th>\n",
              "      <th>Certification</th>\n",
              "    </tr>\n",
              "  </thead>\n",
              "  <tbody>\n",
              "    <tr>\n",
              "      <th>0</th>\n",
              "      <td>5145</td>\n",
              "      <td>2080</td>\n",
              "      <td>1397</td>\n",
              "      <td>416</td>\n",
              "      <td>274</td>\n",
              "      <td>170</td>\n",
              "    </tr>\n",
              "  </tbody>\n",
              "</table>\n",
              "</div>"
            ],
            "text/plain": [
              "   Bachelor's Degree  High School or equivalent  Unspecified  Master's Degree  \\\n",
              "0               5145                       2080         1397              416   \n",
              "\n",
              "   Associate Degree  Certification  \n",
              "0               274            170  "
            ]
          },
          "execution_count": 18,
          "metadata": {},
          "output_type": "execute_result"
        }
      ],
      "source": [
        "edu = dict(df.required_education.value_counts()[:7])\n",
        "del edu['']\n",
        "edu\n",
        "\n",
        "edu_df = pd.DataFrame.from_dict(edu, orient ='index')\n",
        "edu_df.T"
      ]
    },
    {
      "cell_type": "code",
      "execution_count": null,
      "metadata": {
        "id": "T9-EJEhJy5AH",
        "outputId": "6eb7f1f2-6def-4351-eae8-868e5903cb11"
      },
      "outputs": [
        {
          "data": {
            "image/png": "[encoded data removed]",
            "text/plain": [
              "<Figure size 1000x500 with 1 Axes>"
            ]
          },
          "metadata": {},
          "output_type": "display_data"
        }
      ],
      "source": [
        "fig = sns.set(rc={'figure.figsize': (10, 5)})\n",
        "plt.title('Job Posting based on Education')\n",
        "plt.bar(edu.keys(), edu.values())\n",
        "plt.ylabel('No. of jobs')\n",
        "plt.xlabel('Education')\n",
        "plt.xticks(rotation=90)\n",
        "plt.show()"
      ]
    },
    {
      "cell_type": "markdown",
      "metadata": {
        "id": "fiZZenLVy5AH"
      },
      "source": [
        "##### 3. 5 Top 10 Titles of Jobs Posted which were NOT fraudulent"
      ]
    },
    {
      "cell_type": "code",
      "execution_count": null,
      "metadata": {
        "id": "gjmDba8Py5AI",
        "outputId": "5e56802d-ab80-4027-90cf-6ed8a0d1ec1c"
      },
      "outputs": [
        {
          "name": "stdout",
          "output_type": "stream",
          "text": [
            "title\n",
            "English Teacher Abroad                                311\n",
            "Customer Service Associate                            146\n",
            "Graduates: English Teacher Abroad (Conversational)    144\n",
            "English Teacher Abroad                                 95\n",
            "Software Engineer                                      86\n",
            "English Teacher Abroad (Conversational)                83\n",
            "Customer Service Associate - Part Time                 76\n",
            "Account Manager                                        73\n",
            "Web Developer                                          66\n",
            "Project Manager                                        62\n",
            "Name: count, dtype: int64\n"
          ]
        }
      ],
      "source": [
        "print(df[df.fraudulent==0].title.value_counts()[:10])"
      ]
    },
    {
      "cell_type": "markdown",
      "metadata": {
        "id": "trmnSYWby5AI"
      },
      "source": [
        "##### 3.6 Top 10 Titles of Jobs Posted which were fraudulent"
      ]
    },
    {
      "cell_type": "code",
      "execution_count": null,
      "metadata": {
        "id": "kPp-urlsy5AI",
        "outputId": "9c99d416-8cca-42bf-c929-2cc3a2c63971"
      },
      "outputs": [
        {
          "name": "stdout",
          "output_type": "stream",
          "text": [
            "title\n",
            "Data Entry Admin/Clerical Positions - Work From Home                    21\n",
            "Cruise Staff Wanted *URGENT*                                            21\n",
            "Home Based Payroll Typist/Data Entry Clerks Positions Available         21\n",
            "Customer Service Representative                                         17\n",
            "Administrative Assistant                                                16\n",
            "Home Based Payroll Data Entry Clerk Position - Earn $100-$200 Daily     12\n",
            "Account Sales Managers $80-$130,000/yr                                  10\n",
            "Payroll Data Coordinator Positions - Earn $100-$200 Daily               10\n",
            "Network Marketing                                                       10\n",
            "Payroll Clerk                                                           10\n",
            "Name: count, dtype: int64\n"
          ]
        }
      ],
      "source": [
        "print(df[df.fraudulent==1].title.value_counts()[:10])"
      ]
    },
    {
      "cell_type": "markdown",
      "metadata": {
        "id": "gjvk6MEly5AI"
      },
      "source": [
        "#### 4. Text Preprocessing"
      ]
    },
    {
      "cell_type": "markdown",
      "metadata": {
        "id": "leTMCkTLy5AI"
      },
      "source": [
        "##### 4.1 Creating Target and Text Dataframe"
      ]
    },
    {
      "cell_type": "code",
      "execution_count": null,
      "metadata": {
        "id": "sXyovYcKy5AI"
      },
      "outputs": [],
      "source": [
        "def text_fraud_df(df):\n",
        "\n",
        "    # replacing Na values with nothing as a string\n",
        "    df.fillna('', inplace=True)\n",
        "\n",
        "    # creating a new column named \"text\"\n",
        "    # which is concatination of \"title\", \"company_profile\", \"description\", \"requirements\", benifits\n",
        "    # ' ' space between two concatinations\n",
        "    df['text'] = df['title'] + ' ' + df['company_profile'] + ' '+ df['description'] + df['requirements'] + ' ' + df['benefits']\n",
        "\n",
        "\n",
        "    for col in df.columns:\n",
        "        # remove all columns except \"text\" and Fradulent\n",
        "        if col not in ['text','fraudulent']:\n",
        "            del df[col]\n",
        "\n",
        "    return df"
      ]
    },
    {
      "cell_type": "code",
      "execution_count": null,
      "metadata": {
        "id": "bUyUs0Dky5AJ",
        "outputId": "49c12b2f-1023-4135-d5f7-8820926ef006"
      },
      "outputs": [
        {
          "data": {
            "text/html": [
              "<div>\n",
              "<style scoped>\n",
              "    .dataframe tbody tr th:only-of-type {\n",
              "        vertical-align: middle;\n",
              "    }\n",
              "\n",
              "    .dataframe tbody tr th {\n",
              "        vertical-align: top;\n",
              "    }\n",
              "\n",
              "    .dataframe thead th {\n",
              "        text-align: right;\n",
              "    }\n",
              "</style>\n",
              "<table border=\"1\" class=\"dataframe\">\n",
              "  <thead>\n",
              "    <tr style=\"text-align: right;\">\n",
              "      <th></th>\n",
              "      <th>fraudulent</th>\n",
              "      <th>text</th>\n",
              "    </tr>\n",
              "  </thead>\n",
              "  <tbody>\n",
              "    <tr>\n",
              "      <th>0</th>\n",
              "      <td>0</td>\n",
              "      <td>Marketing Intern We're Food52, and we've creat...</td>\n",
              "    </tr>\n",
              "    <tr>\n",
              "      <th>1</th>\n",
              "      <td>0</td>\n",
              "      <td>Customer Service - Cloud Video Production 90 S...</td>\n",
              "    </tr>\n",
              "    <tr>\n",
              "      <th>2</th>\n",
              "      <td>0</td>\n",
              "      <td>Commissioning Machinery Assistant (CMA) Valor ...</td>\n",
              "    </tr>\n",
              "    <tr>\n",
              "      <th>3</th>\n",
              "      <td>0</td>\n",
              "      <td>Account Executive - Washington DC Our passion ...</td>\n",
              "    </tr>\n",
              "    <tr>\n",
              "      <th>4</th>\n",
              "      <td>0</td>\n",
              "      <td>Bill Review Manager SpotSource Solutions LLC i...</td>\n",
              "    </tr>\n",
              "  </tbody>\n",
              "</table>\n",
              "</div>"
            ],
            "text/plain": [
              "   fraudulent                                               text\n",
              "0           0  Marketing Intern We're Food52, and we've creat...\n",
              "1           0  Customer Service - Cloud Video Production 90 S...\n",
              "2           0  Commissioning Machinery Assistant (CMA) Valor ...\n",
              "3           0  Account Executive - Washington DC Our passion ...\n",
              "4           0  Bill Review Manager SpotSource Solutions LLC i..."
            ]
          },
          "execution_count": 23,
          "metadata": {},
          "output_type": "execute_result"
        }
      ],
      "source": [
        "df = text_fraud_df(df)\n",
        "df.head()"
      ]
    },
    {
      "cell_type": "markdown",
      "metadata": {
        "id": "Y3vmtrj8y5AJ"
      },
      "source": [
        "##### 4.2 Lemmatization, Stopword and Punctuation Removal"
      ]
    },
    {
      "cell_type": "code",
      "execution_count": null,
      "metadata": {
        "id": "-rISs-Yfy5Ab",
        "outputId": "526c6c6e-62e1-4988-e389-da0a7aecc422"
      },
      "outputs": [
        {
          "name": "stdout",
          "output_type": "stream",
          "text": [
            "Collecting en-core-web-sm==3.8.0\n",
            "  Downloading https://github.com/explosion/spacy-models/releases/download/en_core_web_sm-3.8.0/en_core_web_sm-3.8.0-py3-none-any.whl (12.8 MB)\n",
            "     ---------------------------------------- 0.0/12.8 MB ? eta -:--:--\n",
            "     ----- ---------------------------------- 1.8/12.8 MB 10.1 MB/s eta 0:00:02\n",
            "     -------- ------------------------------- 2.6/12.8 MB 6.9 MB/s eta 0:00:02\n",
            "     ---------- ----------------------------- 3.4/12.8 MB 5.4 MB/s eta 0:00:02\n",
            "     -------------- ------------------------- 4.7/12.8 MB 5.7 MB/s eta 0:00:02\n",
            "     ---------------------- ----------------- 7.3/12.8 MB 7.1 MB/s eta 0:00:01\n",
            "     ------------------------------ --------- 9.7/12.8 MB 7.7 MB/s eta 0:00:01\n",
            "     ------------------------------------- -- 12.1/12.8 MB 8.2 MB/s eta 0:00:01\n",
            "     ---------------------------------------- 12.8/12.8 MB 7.8 MB/s eta 0:00:00\n",
            "Installing collected packages: en-core-web-sm\n",
            "Successfully installed en-core-web-sm-3.8.0\n",
            "\u001b[38;5;2m✔ Download and installation successful\u001b[0m\n",
            "You can now load the package via spacy.load('en_core_web_sm')\n"
          ]
        }
      ],
      "source": [
        "import sys\n",
        "!{sys.executable} -m spacy download en_core_web_sm\n"
      ]
    },
    {
      "cell_type": "markdown",
      "metadata": {
        "id": "snRF5KhSy5Ab"
      },
      "source": []
    },
    {
      "cell_type": "code",
      "execution_count": null,
      "metadata": {
        "id": "fIBNMb4jy5Ab"
      },
      "outputs": [],
      "source": [
        "import spacy\n",
        "\n",
        "nlp = spacy.load('en_core_web_sm')\n",
        "\n",
        "# Text Preprocessing with varoius combination\n",
        "\n",
        "def spacy_process(text):\n",
        "  # Converts to lowercase\n",
        "  text = text.strip().lower()\n",
        "\n",
        "  # passing text to spacy's nlp object\n",
        "  doc = nlp(text)\n",
        "\n",
        "  # Lemmatization\n",
        "  lemma_list = []\n",
        "  for token in doc:\n",
        "    lemma_list.append(token.lemma_)\n",
        "\n",
        "  # Filter the stopword\n",
        "  filtered_sentence =[]\n",
        "  for word in lemma_list:\n",
        "    lexeme = nlp.vocab[word]\n",
        "    if lexeme.is_stop == False:\n",
        "      filtered_sentence.append(word)\n",
        "\n",
        "  # Remove punctuation\n",
        "  punctuations=\"?:!.,;$\\'-_\"\n",
        "  for word in filtered_sentence:\n",
        "    if word in punctuations:\n",
        "      filtered_sentence.remove(word)\n",
        "\n",
        "  return \" \".join(filtered_sentence)"
      ]
    },
    {
      "cell_type": "code",
      "execution_count": null,
      "metadata": {
        "id": "BsTL668Vy5Ac",
        "outputId": "8b12f923-3be7-488d-b22f-21bbb68ebcad"
      },
      "outputs": [
        {
          "data": {
            "text/html": [
              "<div>\n",
              "<style scoped>\n",
              "    .dataframe tbody tr th:only-of-type {\n",
              "        vertical-align: middle;\n",
              "    }\n",
              "\n",
              "    .dataframe tbody tr th {\n",
              "        vertical-align: top;\n",
              "    }\n",
              "\n",
              "    .dataframe thead th {\n",
              "        text-align: right;\n",
              "    }\n",
              "</style>\n",
              "<table border=\"1\" class=\"dataframe\">\n",
              "  <thead>\n",
              "    <tr style=\"text-align: right;\">\n",
              "      <th></th>\n",
              "      <th>fraudulent</th>\n",
              "      <th>text</th>\n",
              "    </tr>\n",
              "  </thead>\n",
              "  <tbody>\n",
              "    <tr>\n",
              "      <th>0</th>\n",
              "      <td>0</td>\n",
              "      <td>marketing intern food52 create groundbreaking ...</td>\n",
              "    </tr>\n",
              "    <tr>\n",
              "      <th>1</th>\n",
              "      <td>0</td>\n",
              "      <td>customer service cloud video production 90 sec...</td>\n",
              "    </tr>\n",
              "    <tr>\n",
              "      <th>2</th>\n",
              "      <td>0</td>\n",
              "      <td>commission machinery assistant ( cma ) valor s...</td>\n",
              "    </tr>\n",
              "    <tr>\n",
              "      <th>3</th>\n",
              "      <td>0</td>\n",
              "      <td>account executive washington dc passion improv...</td>\n",
              "    </tr>\n",
              "    <tr>\n",
              "      <th>4</th>\n",
              "      <td>0</td>\n",
              "      <td>bill review manager spotsource solution llc gl...</td>\n",
              "    </tr>\n",
              "  </tbody>\n",
              "</table>\n",
              "</div>"
            ],
            "text/plain": [
              "   fraudulent                                               text\n",
              "0           0  marketing intern food52 create groundbreaking ...\n",
              "1           0  customer service cloud video production 90 sec...\n",
              "2           0  commission machinery assistant ( cma ) valor s...\n",
              "3           0  account executive washington dc passion improv...\n",
              "4           0  bill review manager spotsource solution llc gl..."
            ]
          },
          "execution_count": 33,
          "metadata": {},
          "output_type": "execute_result"
        }
      ],
      "source": [
        "df.loc[:,\"text\"] = df.loc[:,\"text\"].apply(spacy_process)\n",
        "df.head()"
      ]
    },
    {
      "cell_type": "code",
      "execution_count": null,
      "metadata": {
        "id": "OmuHX7v8y5Ac"
      },
      "outputs": [],
      "source": [
        "df.to_csv('../datasets/preprocessed.csv', index=False)"
      ]
    },
    {
      "cell_type": "code",
      "execution_count": null,
      "metadata": {
        "id": "NwnP8Vxoy5Ad",
        "outputId": "c4b8c97a-7c77-4053-a901-ecf4732fd672"
      },
      "outputs": [
        {
          "data": {
            "text/html": [
              "<div>\n",
              "<style scoped>\n",
              "    .dataframe tbody tr th:only-of-type {\n",
              "        vertical-align: middle;\n",
              "    }\n",
              "\n",
              "    .dataframe tbody tr th {\n",
              "        vertical-align: top;\n",
              "    }\n",
              "\n",
              "    .dataframe thead th {\n",
              "        text-align: right;\n",
              "    }\n",
              "</style>\n",
              "<table border=\"1\" class=\"dataframe\">\n",
              "  <thead>\n",
              "    <tr style=\"text-align: right;\">\n",
              "      <th></th>\n",
              "      <th>fraudulent</th>\n",
              "      <th>text</th>\n",
              "    </tr>\n",
              "  </thead>\n",
              "  <tbody>\n",
              "    <tr>\n",
              "      <th>0</th>\n",
              "      <td>0</td>\n",
              "      <td>marketing intern food52 create groundbreaking ...</td>\n",
              "    </tr>\n",
              "    <tr>\n",
              "      <th>1</th>\n",
              "      <td>0</td>\n",
              "      <td>customer service cloud video production 90 sec...</td>\n",
              "    </tr>\n",
              "  </tbody>\n",
              "</table>\n",
              "</div>"
            ],
            "text/plain": [
              "   fraudulent                                               text\n",
              "0           0  marketing intern food52 create groundbreaking ...\n",
              "1           0  customer service cloud video production 90 sec..."
            ]
          },
          "execution_count": 36,
          "metadata": {},
          "output_type": "execute_result"
        }
      ],
      "source": [
        "df = pd.read_csv('../datasets/preprocessed.csv')\n",
        "df.head(2)"
      ]
    },
    {
      "cell_type": "code",
      "execution_count": null,
      "metadata": {
        "id": "rHRUzvzxy5Ad",
        "outputId": "3b454b8e-9fd7-4d44-9b8f-b05a47bdb1ae"
      },
      "outputs": [
        {
          "name": "stdout",
          "output_type": "stream",
          "text": [
            "<class 'pandas.core.frame.DataFrame'>\n",
            "RangeIndex: 17880 entries, 0 to 17879\n",
            "Data columns (total 2 columns):\n",
            " #   Column      Non-Null Count  Dtype \n",
            "---  ------      --------------  ----- \n",
            " 0   fraudulent  17880 non-null  int64 \n",
            " 1   text        17880 non-null  object\n",
            "dtypes: int64(1), object(1)\n",
            "memory usage: 279.5+ KB\n"
          ]
        }
      ],
      "source": [
        "df.info()"
      ]
    },
    {
      "cell_type": "markdown",
      "metadata": {
        "id": "ordh8Ekxy5Ad"
      },
      "source": [
        "#### 5. Model Buliding"
      ]
    },
    {
      "cell_type": "code",
      "execution_count": null,
      "metadata": {
        "id": "U71xKUnZy5Ae",
        "outputId": "59c6bff0-3986-4249-f2d7-ef2d85f195e5"
      },
      "outputs": [
        {
          "name": "stdout",
          "output_type": "stream",
          "text": [
            "Collecting imbalanced-learn\n",
            "  Using cached imbalanced_learn-0.13.0-py3-none-any.whl.metadata (8.8 kB)\n",
            "Requirement already satisfied: numpy<3,>=1.24.3 in d:\\yashu\\mca\\sem4\\project\\venv\\lib\\site-packages (from imbalanced-learn) (2.2.3)\n",
            "Requirement already satisfied: scipy<2,>=1.10.1 in d:\\yashu\\mca\\sem4\\project\\venv\\lib\\site-packages (from imbalanced-learn) (1.15.2)\n",
            "Requirement already satisfied: scikit-learn<2,>=1.3.2 in d:\\yashu\\mca\\sem4\\project\\venv\\lib\\site-packages (from imbalanced-learn) (1.6.1)\n",
            "Collecting sklearn-compat<1,>=0.1 (from imbalanced-learn)\n",
            "  Using cached sklearn_compat-0.1.3-py3-none-any.whl.metadata (18 kB)\n",
            "Requirement already satisfied: joblib<2,>=1.1.1 in d:\\yashu\\mca\\sem4\\project\\venv\\lib\\site-packages (from imbalanced-learn) (1.4.2)\n",
            "Requirement already satisfied: threadpoolctl<4,>=2.0.0 in d:\\yashu\\mca\\sem4\\project\\venv\\lib\\site-packages (from imbalanced-learn) (3.5.0)\n",
            "Using cached imbalanced_learn-0.13.0-py3-none-any.whl (238 kB)\n",
            "Using cached sklearn_compat-0.1.3-py3-none-any.whl (18 kB)\n",
            "Installing collected packages: sklearn-compat, imbalanced-learn\n",
            "Successfully installed imbalanced-learn-0.13.0 sklearn-compat-0.1.3\n"
          ]
        }
      ],
      "source": [
        "import sys\n",
        "!{sys.executable} -m pip install imbalanced-learn\n"
      ]
    },
    {
      "cell_type": "code",
      "execution_count": null,
      "metadata": {
        "id": "Ss1OJUEty5Ae"
      },
      "outputs": [],
      "source": [
        "from numpy import sqrt, argmax\n",
        "from sklearn.model_selection import train_test_split\n",
        "from imblearn.over_sampling import SMOTE\n",
        "from sklearn.feature_extraction.text import TfidfVectorizer, CountVectorizer\n",
        "\n",
        "from sklearn.ensemble import RandomForestClassifier\n",
        "from sklearn.linear_model import LogisticRegression\n",
        "from sklearn.svm import SVC\n",
        "\n",
        "from sklearn.metrics import accuracy_score, classification_report, roc_curve, roc_auc_score"
      ]
    },
    {
      "cell_type": "code",
      "execution_count": null,
      "metadata": {
        "id": "z8LUzPfry5Ae"
      },
      "outputs": [],
      "source": [
        "# Creating a Dataframe with word-vectors in TF-IDF form and Target values\n",
        "\n",
        "def final_df(df, is_train, vectorizer, column):\n",
        "\n",
        "    # TF-IDF form\n",
        "    if is_train:\n",
        "        x = vectorizer.fit_transform(df.loc[:,column])\n",
        "    else:\n",
        "        x = vectorizer.transform(df.loc[:,column])\n",
        "\n",
        "    # TF-IDF form to Dataframe\n",
        "    temp = pd.DataFrame(x.toarray(), columns=vectorizer.get_feature_names_out())\n",
        "\n",
        "    # Droping the text column\n",
        "    df.drop(df.loc[:,column].name, axis = 1, inplace=True)\n",
        "\n",
        "    # Returning TF-IDF form with target\n",
        "    return pd.concat([temp, df], axis=1)"
      ]
    },
    {
      "cell_type": "code",
      "execution_count": null,
      "metadata": {
        "id": "INzDfJovy5Af"
      },
      "outputs": [],
      "source": [
        "# Training the model with various combination and returns y_test and y_pred\n",
        "\n",
        "def train_model(df, input, target, test_size, over_sample, vectorizer, model):\n",
        "\n",
        "    X = df.drop(target, axis=1)\n",
        "    y = df[target]\n",
        "    print(\"Splitted Data into X and Y.\")\n",
        "\n",
        "    X_train, x_test, Y_train, y_test = train_test_split(X, y, test_size=test_size, random_state=42)\n",
        "    print(\"Splitted Data into Train and Test.\")\n",
        "\n",
        "    # Training Preprocessing\n",
        "    X_train = final_df(X_train, True, vectorizer, input)\n",
        "    X_train.dropna(inplace=True)\n",
        "    print(\"Vectorized Training Data.\")\n",
        "\n",
        "    if over_sample:\n",
        "        sm = SMOTE(random_state = 2)\n",
        "        X_train, Y_train = sm.fit_resample(X_train, Y_train.ravel())\n",
        "        print(\"Oversampling Done for Training Data.\")\n",
        "\n",
        "    # Testing Preprocessing\n",
        "    x_test = final_df(x_test, False, vectorizer, input)\n",
        "    x_test.dropna(inplace=True)\n",
        "    print(\"Vectorized Testing Data.\")\n",
        "\n",
        "    # fitting the model\n",
        "    model = model.fit(X_train, Y_train)\n",
        "    print(\"Model Fitted Successfully.\")\n",
        "\n",
        "    # calculating y_pred\n",
        "    y_pred = model.predict(x_test)\n",
        "    y_pred_prob = model.predict_proba(x_test)\n",
        "    roc_auc = round(roc_auc_score(y_test, y_pred_prob[:, 1]), 2)\n",
        "\n",
        "    print(f\"\\n \\033[1mROC-AUC Score\\033[0m \\t\\t: {roc_auc*100} %\")\n",
        "\n",
        "    fpr, tpr, thresholds = roc_curve(y_test, y_pred_prob[:,1], pos_label=1)\n",
        "\n",
        "    # calculate the g-mean for each threshold\n",
        "    gmeans = sqrt(tpr * (1-fpr))\n",
        "\n",
        "    # locate the index of the largest g-mean\n",
        "    ix = argmax(gmeans)\n",
        "    print('\\033[1mBest Threshold\\033[0m \\t\\t: %.3f \\n\\033[1mG-Mean\\033[0m \\t\\t\\t: %.3f' % (thresholds[ix], gmeans[ix]))\n",
        "\n",
        "    y_pred = (y_pred > thresholds[ix])\n",
        "\n",
        "    accuracy = accuracy_score(y_test, y_pred)\n",
        "    print(\"\\033[1mModel Accuracy\\033[0m \\t\\t:\", round(accuracy,2,)*100, \"%\")\n",
        "\n",
        "    print(\"\\033[1m\\nClassification Report:\\033[0m\")\n",
        "    print(classification_report(y_test, y_pred))\n",
        "\n",
        "    return model"
      ]
    },
    {
      "cell_type": "markdown",
      "metadata": {
        "id": "zs393qeiy5Af"
      },
      "source": [
        "##### 5.2 Training Model with Various Config"
      ]
    },
    {
      "cell_type": "code",
      "execution_count": null,
      "metadata": {
        "id": "kogVdjzIy5Ag",
        "outputId": "654c03ee-5f05-4b16-c8bd-4da2aa373102"
      },
      "outputs": [
        {
          "name": "stdout",
          "output_type": "stream",
          "text": [
            "Splitted Data into X and Y.\n",
            "Splitted Data into Train and Test.\n",
            "Vectorized Training Data.\n"
          ]
        },
        {
          "name": "stderr",
          "output_type": "stream",
          "text": [
            "C:\\Users\\Admin\\AppData\\Local\\Temp\\ipykernel_1736\\2084387305.py:19: FutureWarning: Series.ravel is deprecated. The underlying array is already 1D, so ravel is not necessary.  Use `to_numpy()` for conversion to a numpy array instead.\n",
            "  X_train, Y_train = sm.fit_resample(X_train, Y_train.ravel())\n"
          ]
        },
        {
          "name": "stdout",
          "output_type": "stream",
          "text": [
            "Oversampling Done for Training Data.\n",
            "Vectorized Testing Data.\n",
            "Model Fitted Successfully.\n",
            "\n",
            " \u001b[1mROC-AUC Score\u001b[0m \t\t: 92.0 %\n",
            "\u001b[1mBest Threshold\u001b[0m \t\t: 0.145 \n",
            "\u001b[1mG-Mean\u001b[0m \t\t\t: 0.874\n",
            "\u001b[1mModel Accuracy\u001b[0m \t\t: 94.0 %\n",
            "\u001b[1m\n",
            "Classification Report:\u001b[0m\n",
            "              precision    recall  f1-score   support\n",
            "\n",
            "           0       0.99      0.95      0.97      3395\n",
            "           1       0.43      0.76      0.55       181\n",
            "\n",
            "    accuracy                           0.94      3576\n",
            "   macro avg       0.71      0.85      0.76      3576\n",
            "weighted avg       0.96      0.94      0.95      3576\n",
            "\n"
          ]
        }
      ],
      "source": [
        "cv = CountVectorizer(ngram_range=(1, 1), max_features = 500)\n",
        "model = LogisticRegression(max_iter=1000)\n",
        "\n",
        "model = train_model(\n",
        "    df=df,\n",
        "    input='text',\n",
        "    target='fraudulent',\n",
        "    test_size=0.2,\n",
        "    over_sample=True,\n",
        "    vectorizer=cv,\n",
        "    model=model)"
      ]
    },
    {
      "cell_type": "code",
      "execution_count": null,
      "metadata": {
        "id": "kmeoIDFby5Ag",
        "outputId": "fc31f8cb-5a79-4147-d84b-f4b82af11cea"
      },
      "outputs": [
        {
          "name": "stdout",
          "output_type": "stream",
          "text": [
            "Splitted Data into X and Y.\n",
            "Splitted Data into Train and Test.\n",
            "Vectorized Training Data.\n"
          ]
        },
        {
          "name": "stderr",
          "output_type": "stream",
          "text": [
            "C:\\Users\\Admin\\AppData\\Local\\Temp\\ipykernel_1736\\2084387305.py:19: FutureWarning: Series.ravel is deprecated. The underlying array is already 1D, so ravel is not necessary.  Use `to_numpy()` for conversion to a numpy array instead.\n",
            "  X_train, Y_train = sm.fit_resample(X_train, Y_train.ravel())\n"
          ]
        },
        {
          "name": "stdout",
          "output_type": "stream",
          "text": [
            "Oversampling Done for Training Data.\n",
            "Vectorized Testing Data.\n",
            "Model Fitted Successfully.\n",
            "\n",
            " \u001b[1mROC-AUC Score\u001b[0m \t\t: 94.0 %\n",
            "\u001b[1mBest Threshold\u001b[0m \t\t: 0.401 \n",
            "\u001b[1mG-Mean\u001b[0m \t\t\t: 0.871\n",
            "\u001b[1mModel Accuracy\u001b[0m \t\t: 93.0 %\n",
            "\u001b[1m\n",
            "Classification Report:\u001b[0m\n",
            "              precision    recall  f1-score   support\n",
            "\n",
            "           0       0.99      0.93      0.96      3395\n",
            "           1       0.40      0.80      0.53       181\n",
            "\n",
            "    accuracy                           0.93      3576\n",
            "   macro avg       0.69      0.87      0.75      3576\n",
            "weighted avg       0.96      0.93      0.94      3576\n",
            "\n"
          ]
        }
      ],
      "source": [
        "tfidf = TfidfVectorizer(ngram_range=(1, 1), max_features = 500)\n",
        "lr = LogisticRegression()\n",
        "\n",
        "rfc = train_model(\n",
        "    df=df,\n",
        "    input='text',\n",
        "    target='fraudulent',\n",
        "    test_size=0.2,\n",
        "    over_sample=True,\n",
        "    vectorizer=tfidf,\n",
        "    model=lr)"
      ]
    },
    {
      "cell_type": "markdown",
      "metadata": {
        "id": "gmsIhbZDy5Ah"
      },
      "source": [
        "##### 5.3 Making a Pickle of Best Model"
      ]
    },
    {
      "cell_type": "code",
      "execution_count": null,
      "metadata": {
        "id": "5jnQ-ToZy5Ah",
        "outputId": "336b1fb6-d444-4a9b-d0b1-711b11b3a1d3"
      },
      "outputs": [
        {
          "name": "stdout",
          "output_type": "stream",
          "text": [
            "✅ Model and vectorizer saved successfully!\n"
          ]
        }
      ],
      "source": [
        "import pickle\n",
        "\n",
        "with open('../pickle/vectorizer.pkl', 'wb') as file:\n",
        "    pickle.dump(tfidf, file)\n",
        "\n",
        "with open('../pickle/notebook_model.pkl', 'wb') as file:\n",
        "    pickle.dump(lr, file)\n",
        "\n",
        "print(\" Model and vectorizer saved successfully!\")\n"
      ]
    }
  ],
  "metadata": {
    "kernelspec": {
      "display_name": "venv",
      "language": "python",
      "name": "python3"
    },
    "language_info": {
      "codemirror_mode": {
        "name": "ipython",
        "version": 3
      },
      "file_extension": ".py",
      "mimetype": "text/x-python",
      "name": "python",
      "nbconvert_exporter": "python",
      "pygments_lexer": "ipython3",
      "version": "3.11.9"
    },
    "orig_nbformat": 4,
    "colab": {
      "provenance": []
    }
  },
  "nbformat": 4,
  "nbformat_minor": 0
}